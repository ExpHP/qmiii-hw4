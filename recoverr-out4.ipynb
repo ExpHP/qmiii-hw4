{
 "cells": [
  {
   "cell_type": "markdown",
   "metadata": {},
   "source": [
    "# Quantum Mech III Homework 4\n",
    "Michael Lamparski\n",
    "\n",
    "7 October 2016\n",
    "\n",
    "$\\newcommand\\up\\uparrow$\n",
    "$\\newcommand\\down\\downarrow$\n",
    "$\\newcommand\\Basis{\\mathbf{B}}$\n",
    "$\\newcommand\\BUp{\\mathbf{B}_\\up}$\n",
    "$\\newcommand\\BDown{\\mathbf{B}_\\down}$\n",
    "$\\newcommand\\NUp{N_\\up}$\n",
    "$\\newcommand\\NDown{N_\\down}$\n",
    "$\\newcommand\\abs[1]{\\left|#1\\right|}$\n",
    "$\\newcommand\\paren[1]{\\left(#1\\right)}$\n",
    "$\\newcommand\\create[1]{a^\\dagger_{#1}}$\n",
    "$\\newcommand\\bra[1]{\\left<#1\\right|}$\n",
    "$\\newcommand\\ket[1]{\\left|#1\\right>}$"
   ]
  },
  {
   "cell_type": "markdown",
   "metadata": {},
   "source": [
    "Note: Most of this was written over the weekend for the $N=4$ problem, with small adaptions added for $N=3$ afterwards."
   ]
  },
  {
   "cell_type": "code",
   "execution_count": 1,
   "metadata": {
    "collapsed": false
   },
   "outputs": [],
   "source": [
    "{-# LANGUAGE DeriveGeneric BangPatterns #-}\n",
    "\n",
    "import Data.Tuple(swap)\n",
    "import Data.Function(on)\n",
    "\n",
    "import Data.Map.Strict(Map)\n",
    "import qualified Data.Map.Strict as Map\n",
    "import Data.Vector(Vector,(!),(//)) -- package vector\n",
    "import qualified Data.Vector as Vector \n",
    "import qualified Data.List as List\n",
    "\n",
    "import qualified Data.Permute as Permute -- package permutation\n",
    "\n",
    "import Data.Foldable\n",
    "import Data.Monoid\n",
    "\n",
    "import Control.Monad\n",
    "import Control.Exception\n",
    "import Debug.Trace\n",
    "import Text.Printf(printf)\n",
    "\n",
    "import System.IO"
   ]
  },
  {
   "cell_type": "markdown",
   "metadata": {},
   "source": [
    "# Vacuum expectation of a product of fermion operators"
   ]
  },
  {
   "cell_type": "markdown",
   "metadata": {},
   "source": [
    "Here is an algorithm to compute the matrix element $\\left<0\\right|abc\\dots xyz\\left|0\\right>$, where $\\left|0\\right>$ is the vacuum, and $abc\\dots xyz$ are a product of fermion annihilation and creation operators. The algorithm was devised on a whim, and is not particularly efficient or well adapted to the specific problem at hand."
   ]
  },
  {
   "cell_type": "markdown",
   "metadata": {},
   "source": [
    "First, primitive types for fermion operators (and products thereof) are defined:"
   ]
  },
  {
   "cell_type": "code",
   "execution_count": 2,
   "metadata": {
    "collapsed": true
   },
   "outputs": [],
   "source": [
    "data Fermion i = Annihilate i\n",
    "               | Create     i\n",
    "               deriving (Eq, Show)\n",
    "\n",
    "type Operator i = [Fermion i]\n",
    "type Basis i = Vector (Operator i)\n",
    "\n",
    "conjOne :: Fermion i -> Fermion i\n",
    "conjOne (Annihilate i) = (Create i)\n",
    "conjOne (Create i)     = (Annihilate i)\n",
    "\n",
    "conj :: Operator i -> Operator i\n",
    "conj = reverse . map conjOne\n",
    "\n",
    "number :: i -> Operator i\n",
    "number i = [Create i, Annihilate i]\n",
    "\n",
    "fermionLabel :: Fermion i -> i\n",
    "fermionLabel (Annihilate i) = i\n",
    "fermionLabel (Create i)     = i"
   ]
  },
  {
   "cell_type": "markdown",
   "metadata": {},
   "source": [
    "To compute $\\left<0\\right|abc\\dots xyz\\left|0\\right>$, we basically \"sort\" the elements into normal form."
   ]
  },
  {
   "cell_type": "markdown",
   "metadata": {},
   "source": [
    "Either **all of them will disappear in the process,** producing a 1; or **at least one of them will survive,** producing 0. Bubble sort actually makes itself useful for once, because it performs\n",
    "every individual swap that might have a commutation relation."
   ]
  },
  {
   "cell_type": "markdown",
   "metadata": {},
   "source": [
    "*__Note:__ one might suspect a single iteration of bubble sort is enough,\n",
    "as typically one iteration brings the max element to the end,\n",
    "which is either an annihilator* (which gets applied to the vacuum ket)\n",
    "*or a creator* (in which case it being the max implies ALL are creators).\n",
    "*However, this is not actually true in our case. Because some elements disappear each\n",
    "iteration, it is possible for the max element to be one that we previously\n",
    "skipped over when a larger element still existed.*"
   ]
  },
  {
   "cell_type": "code",
   "execution_count": 3,
   "metadata": {
    "collapsed": false
   },
   "outputs": [],
   "source": [
    "\n",
    "-- Ordering for the (<), (<=), etc. operators that produces normal form.\n",
    "-- Creation operators are sorted ascendingly by index while annihilators\n",
    "--  are sorted descending by index, so that the preferred ordering looks\n",
    "--  like this:  (a+) (b+) (c+) c b a\n",
    "instance (Ord i) => Ord (Fermion i) where\n",
    "    (Create     a) `compare` (Create     b) = a `compare` b\n",
    "    (Create     a) `compare` (Annihilate b) = LT\n",
    "    (Annihilate a) `compare` (Create     b) = GT\n",
    "    (Annihilate a) `compare` (Annihilate b) = b `compare` a\n",
    "\n",
    "applyNTimes :: Int -> (a -> a) -> (a -> a)\n",
    "applyNTimes n f = foldr (.) id $ replicate n f\n",
    "\n",
    "-- compute  <0| operator |0>\n",
    "vacuumValue :: (Ord i, Num x) => Operator i -> x\n",
    "vacuumValue = afterBubble . bubble where\n",
    "\n",
    "    -- start with prefactor 1 and accumulated total of 0.\n",
    "    -- (NOTE: the accumulated total tracks extra terms produced by the\n",
    "    --        a(a+) = 1 - (a+)a  commutation relation, but it isn't tested\n",
    "    --        very well since they always come out to zero in the Hubbard model)\n",
    "    bubble xs = applyNTimes (length xs) (iter []) (1, 0, xs) where\n",
    "\n",
    "        -- a single full-list bubble sort iteration\n",
    "        iter done (c, tot, (x0:x1:xs))\n",
    "\n",
    "            -- a(a+) = 1 - (a+)a\n",
    "            -- computation branches off to compute the (a+)a term,\n",
    "            --    after which we continue with the the 1 term.\n",
    "            | specialPair x0 x1 =\n",
    "                 let term2 = vacuumValue (reverse done ++ [x1,x0] ++ xs)\n",
    "                 -- when this assertion fails, it will be necessary to test\n",
    "                 --  the code that tracks \"tot\" more rigorously\n",
    "                 in  assert (term2 == 0) $\n",
    "                     iter done (c, tot - c * term2, xs)\n",
    "\n",
    "            -- square of fermion operator is zero (fast path)\n",
    "            | x0 == x1 = iter []        (0, tot, [])\n",
    "            -- unrelated terms anticommute\n",
    "            | x0 >  x1 = iter (x1:done) (-c, tot, (x0:xs))\n",
    "            | x0 <  x1 = iter (x0:done) ( c, tot, (x1:xs))\n",
    "\n",
    "        -- We can take a fast track out for an annihilator on the vacuum state.\n",
    "        iter done (c, tot, [Annihilate _]) = (0, tot, [])\n",
    "        -- Prepare for the next iteration.\n",
    "        iter done (c, tot, [x]) = (c, tot, reverse (x:done))\n",
    "        iter done (c, tot, [ ]) = (c, tot, reverse    done )\n",
    "\n",
    "        specialPair (Annihilate i) (Create k) | i == k = True\n",
    "        specialPair _ _ = False\n",
    "\n",
    "    -- no operators remain.  We have <0|0> times a constant\n",
    "    afterBubble (c, tot, []) = tot + c \n",
    "    -- operators remain; because they are in normal form, this must be zero.\n",
    "    afterBubble (c, tot, xs) = tot\n"
   ]
  },
  {
   "cell_type": "markdown",
   "metadata": {},
   "source": [
    "# Formulating the Hubbard model"
   ]
  },
  {
   "cell_type": "markdown",
   "metadata": {},
   "source": [
    "## Basis states\n"
   ]
  },
  {
   "cell_type": "markdown",
   "metadata": {},
   "source": [
    "We have a half-filled Hubbard model with $\\NUp$ spin-up electrons, $\\NDown$ spin-down electrons, and $N=\\NUp + \\NDown$ ions, each providing a localized spin up state and a spin down state.  Because electrons are fermions, no two can occupy the same state, hence we must choose a *combination* of the available localized states to host electrons."
   ]
  },
  {
   "cell_type": "markdown",
   "metadata": {},
   "source": [
    "Because we have a fixed number of electrons of each spin, and because the set of states available to each spin are mutually exclusive, we can choose the up spins and the down spins independently. I.e. the basis set can be written as $\\Basis=\\BUp \\times \\BDown$, a direct product of individual bases for each spin:"
   ]
  },
  {
   "cell_type": "markdown",
   "metadata": {},
   "source": [
    "\n",
    "\\begin{equation}\n",
    "\\abs\\Basis = \n",
    "\\abs\\BUp \\cdot \\abs\\BDown = \n",
    "\\underset{\\text{(in general)}}{\\binom N\\NUp \\binom N\\NDown} =\n",
    "\\underset{\\text{(half-filled model)}}{\\binom N\\NUp \\binom N{N-\\NUp}} =\n",
    "{\\binom N\\NUp}^2\n",
    "\\end{equation}"
   ]
  },
  {
   "cell_type": "markdown",
   "metadata": {},
   "source": [
    "where $\\binom mn = \\frac{m!}{n!(m-n)!}$ is a binomial coefficient."
   ]
  },
  {
   "cell_type": "markdown",
   "metadata": {},
   "source": [
    "For $\\NUp=2, \\NDown=1$, the **total rank of our basis** is ${\\binom32}^2=3^2=9$, consisting of the following states (a cartesian product):"
   ]
  },
  {
   "cell_type": "markdown",
   "metadata": {},
   "source": [
    "\\begin{equation}\n",
    "\\ket{\\psi} = \\ket{\\psi_\\up} \\otimes \\ket{\\psi_\\down},\\qquad\n",
    "\\ket{\\psi_\\up} \\in \\begin{Bmatrix}\n",
    "    \\create{1\\up} \\create{2\\up} \\ket0 \\\\\n",
    "    \\create{1\\up} \\create{3\\up} \\ket0 \\\\\n",
    "    \\create{2\\up} \\create{3\\up} \\ket0\n",
    "\\end{Bmatrix},~~\n",
    "\\ket{\\psi_\\down} \\in \\begin{Bmatrix}\n",
    "    \\create{1\\down} \\ket0 \\\\\n",
    "    \\create{2\\down} \\ket0 \\\\\n",
    "    \\create{3\\down} \\ket0\n",
    "\\end{Bmatrix}\n",
    "\\end{equation}"
   ]
  },
  {
   "cell_type": "markdown",
   "metadata": {},
   "source": [
    "The following generates such a basis, and was used when I looked at the N=4 basis:"
   ]
  },
  {
   "cell_type": "code",
   "execution_count": 4,
   "metadata": {
    "collapsed": false
   },
   "outputs": [
    {
     "data": {
      "text/plain": [
       "Basis operators in the direct product formulation"
      ]
     },
     "metadata": {},
     "output_type": "display_data"
    },
    {
     "data": {
      "text/plain": [
       "[Create (Up 1),Create (Up 2),Create (Down 1)]\n",
       "[Create (Up 1),Create (Up 2),Create (Down 2)]\n",
       "[Create (Up 1),Create (Up 2),Create (Down 3)]\n",
       "[Create (Up 1),Create (Up 3),Create (Down 1)]\n",
       "[Create (Up 1),Create (Up 3),Create (Down 2)]\n",
       "[Create (Up 1),Create (Up 3),Create (Down 3)]\n",
       "[Create (Up 2),Create (Up 3),Create (Down 1)]\n",
       "[Create (Up 2),Create (Up 3),Create (Down 2)]\n",
       "[Create (Up 2),Create (Up 3),Create (Down 3)]"
      ]
     },
     "metadata": {},
     "output_type": "display_data"
    }
   ],
   "source": [
    "data Spin i = Up i | Down i deriving (Eq, Ord, Show)\n",
    "\n",
    "\n",
    "-- combinations from a list, one of haskell's missing batteries...\n",
    "combinations :: Int -> [a] -> [[a]]\n",
    "combinations 0 _ = [[]]\n",
    "combinations n xs = [ xs !! i : x | i <- [0..(length xs)-1] \n",
    "                                  , x <- combinations (n-1) (drop (i+1) xs) ]\n",
    "\n",
    "-- for N_up = N_down\n",
    "productBasisN :: Int -> Basis (Spin Int)\n",
    "productBasisN n | odd n     = error \"odd number\"\n",
    "                | otherwise = productBasisNUD n (n `div` 2) (n `div` 2)\n",
    "\n",
    "-- allows independent N, N_up, and N_down counts.\n",
    "productBasisNUD :: Int -> Int -> Int -> Basis (Spin Int)\n",
    "productBasisNUD n u d = Vector.fromList\n",
    "                           -- behold, the beautiful simplicity of a direct product\n",
    "                           [ Create <$> (map Up ups ++ map Down dns)\n",
    "                           | ups <- combinations u [1..n]\n",
    "                           , dns <- combinations d [1..n]\n",
    "                           ]\n",
    "putStrLn \"Basis operators in the direct product formulation\"\n",
    "mapM_ print $ productBasisNUD 3 2 1"
   ]
  },
  {
   "cell_type": "markdown",
   "metadata": {},
   "source": [
    "However, this differs from the basis requested on the HW in two ways:\n",
    "\n",
    "* We sorted by spin first, but the HW requests to sort by site. (this is easily overcome)\n",
    "* We produced basis elements by a lexical ordering.  The order of states on the HW is fixed\n",
    "  to group together states which are physically similar.\n",
    "  \n",
    "The second in particular is a nice and desirable quality, but it takes more than a simple fix to implement.  Rather than a direct product, it is better described as a \\[disjoint\\] union: **The states where every ion has an electron, followed by the states where one has two.**"
   ]
  },
  {
   "cell_type": "markdown",
   "metadata": {},
   "source": [
    "These two groups can each be described as permutations of some representative basis element ($\\ket{\\psi_1}$ and $\\ket{\\psi_4}$ on the homework)."
   ]
  },
  {
   "cell_type": "code",
   "execution_count": 5,
   "metadata": {
    "collapsed": false
   },
   "outputs": [],
   "source": [
    "----------------------------\n",
    "-- basis order\n",
    "\n",
    "data SiteClass = Zero | Plus | Minus | Two deriving (Show, Eq)\n",
    "data HWState = HWState { hwStateClasses :: [SiteClass] } deriving (Show, Eq)\n",
    "siteSpins :: SiteClass -> [a -> Spin a]\n",
    "siteSpins Zero  = []\n",
    "siteSpins Plus  = [Up]\n",
    "siteSpins Minus = [Down]\n",
    "siteSpins Two   = [Up, Down]\n",
    "siteSpinsAt :: a -> SiteClass -> [Spin a]\n",
    "siteSpinsAt label = map ($ label) . siteSpins\n",
    "\n",
    "-- permutations arranged by the ordering scheme used on the hw, insofar as I\n",
    "-- can surmise, which is to choose the location of the first value, then the\n",
    "-- location of the 2nd, etc.\n",
    "-- I.e. the *target* index lists are lexicographically ordered.\n",
    "permutationsALaGiedt :: [a] -> [[a]]\n",
    "permutationsALaGiedt xs = iter $ Just $ Permute.permute (length xs) where\n",
    "    xvec = Vector.fromList xs\n",
    "    getPerm perm = Vector.toList $ Vector.backpermute xvec\n",
    "                 -- backpermute needs source indices,\n",
    "                 --  so invert our target indices\n",
    "                 $ Vector.fromList $ Permute.elems $ Permute.inverse perm\n",
    "    iter (Just perm) = getPerm perm:iter (Permute.next perm)\n",
    "    iter Nothing     = []\n",
    "\n",
    "buildBasis :: [[SiteClass]] -> [Operator (Spin Int)]\n",
    "buildBasis = map classesToBasisElement . buildBasisClasses\n",
    "\n",
    "buildBasisClasses :: [[SiteClass]] -> [HWState]\n",
    "buildBasisClasses = map HWState . concatMap (List.nub . permutationsALaGiedt)\n",
    "\n",
    "classesToBasisElement :: HWState -> Operator (Spin Int)\n",
    "classesToBasisElement = map Create\n",
    "                      . concat . zipWith siteSpinsAt [1..] . hwStateClasses"
   ]
  },
  {
   "cell_type": "markdown",
   "metadata": {},
   "source": [
    "With all that infrastructure in place, how about we finish the job?"
   ]
  },
  {
   "cell_type": "markdown",
   "metadata": {},
   "source": [
    "### Enumerate the basis states in the $m_i=\\{0,\\pm1,2\\}$ format"
   ]
  },
  {
   "cell_type": "code",
   "execution_count": 6,
   "metadata": {
    "collapsed": false
   },
   "outputs": [
    {
     "data": {
      "text/plain": [
       "Ket 1   [Plus,Plus,Minus]   [Up 1,Up 2,Down 3]\n",
       "Ket 2   [Plus,Minus,Plus]   [Up 1,Down 2,Up 3]\n",
       "Ket 3   [Minus,Plus,Plus]   [Down 1,Up 2,Up 3]\n",
       "Ket 4   [Two,Plus,Zero]     [Up 1,Down 1,Up 2]\n",
       "Ket 5   [Two,Zero,Plus]     [Up 1,Down 1,Up 3]\n",
       "Ket 6   [Plus,Two,Zero]     [Up 1,Up 2,Down 2]\n",
       "Ket 7   [Zero,Two,Plus]     [Up 2,Down 2,Up 3]\n",
       "Ket 8   [Plus,Zero,Two]     [Up 1,Up 3,Down 3]\n",
       "Ket 9   [Zero,Plus,Two]     [Up 2,Up 3,Down 3]"
      ]
     },
     "metadata": {},
     "output_type": "display_data"
    }
   ],
   "source": [
    "padL :: a -> Int -> [a] -> [a]\n",
    "padL fill n xs = replicate (n - length xs) fill ++ xs\n",
    "padR :: a -> Int -> [a] -> [a]\n",
    "padR fill n xs = xs ++ replicate (n - length xs) fill\n",
    "\n",
    "hw4Groups  = [[Plus, Plus, Minus], [Two, Plus, Zero]]\n",
    "hw4Classes = buildBasisClasses hw4Groups\n",
    "hw4Basis   = Vector.fromList $ buildBasis hw4Groups\n",
    "mapM_ putStrLn $ List.zipWith3 (\\n a b -> \"Ket \" ++ show n ++ \"   \"\n",
    "                                       ++ padR ' ' 20 (show a) ++ show b)\n",
    "                 [1..]\n",
    "                 (hwStateClasses <$> hw4Classes)\n",
    "                 (map fermionLabel <$> toList hw4Basis)"
   ]
  },
  {
   "cell_type": "markdown",
   "metadata": {},
   "source": [
    "where e.g. the first row is to be read as $\\ket{\\psi_1}\\equiv\\ket{1,1,-1} = a^\\dagger_{1\\up}a^\\dagger_{2\\up}a^\\dagger_{3\\down} \\ket{0}$."
   ]
  },
  {
   "cell_type": "markdown",
   "metadata": {},
   "source": [
    "## Hamiltonian"
   ]
  },
  {
   "cell_type": "markdown",
   "metadata": {},
   "source": [
    "Now let's define $\\mathbf T$ and $\\mathbf U$ matrices straightforwardly from the Hamiltonian."
   ]
  },
  {
   "cell_type": "code",
   "execution_count": 7,
   "metadata": {
    "collapsed": true
   },
   "outputs": [],
   "source": [
    "pairs :: [a] -> [(a,a)]\n",
    "pairs xs@(a:b:_) = (a,b):pairs (tail xs)\n",
    "pairs _ = []\n",
    "\n",
    "matricesN :: (Num a) => Int -> Basis (Spin Int) -> ([[a]], [[a]])\n",
    "matricesN nIon basis = (getMatrix (-1) tTerms, getMatrix 1 uTerms) where\n",
    "    -- Funny; I can't seem to come up with a formulation for this that doesn't\n",
    "    -- have at least one edge case.  Something \"magical\" seems to happen\n",
    "    -- between 2 and 3 ions that suddenly doubles the number of interactions.\n",
    "    interactionPairs 0 = []\n",
    "    interactionPairs 1 = [(1,1)]\n",
    "    interactionPairs 2 = [(1,2), (2,1)]\n",
    "    interactionPairs n = [id,swap] <*> (n,1):pairs [1..n]\n",
    "\n",
    "    tTerms = [ [Create (spin k), Annihilate (spin i)]\n",
    "             | (i, k) <- interactionPairs nIon\n",
    "             , spin   <- [Up, Down]\n",
    "             ]\n",
    "\n",
    "    uTerms = [ number (Up i) ++ number (Down i) | i <- [1..nIon] ]\n",
    "\n",
    "    getElement bra ket mat = vacuumValue $ (conj bra) ++ mat ++ ket\n",
    "    getMatrix c f = [ [ (c*) $ sum $ getElement bra ket <$> f\n",
    "                      | ket <- toList basis ]\n",
    "                    | bra <- toList basis ]\n",
    "\n",
    "-- Convenience functions for obtaining one at a time.\n",
    "-- Note that because Haskell is lazy (and because there are no data\n",
    "--  dependencies between the matrices), calling both of these functions\n",
    "--  functions does not incur any significant cost compared to calling\n",
    "--  `matricesN` once; each matrix will still only be computed once.\n",
    "tMatrixN n basis = fst $ matricesN n basis\n",
    "uMatrixN n basis = snd $ matricesN n basis"
   ]
  },
  {
   "cell_type": "markdown",
   "metadata": {},
   "source": [
    "Test on $N=2$:"
   ]
  },
  {
   "cell_type": "code",
   "execution_count": 8,
   "metadata": {
    "collapsed": false
   },
   "outputs": [
    {
     "data": {
      "text/plain": [
       "\n",
       "N=2 basis\n",
       "[Create (Up 1),Create (Down 1)]\n",
       "[Create (Up 1),Create (Down 2)]\n",
       "[Create (Up 2),Create (Down 1)]\n",
       "[Create (Up 2),Create (Down 2)]\n",
       "\n",
       "N=2 t coefficients\n",
       "[0,-1,-1,0]\n",
       "[-1,0,0,-1]\n",
       "[-1,0,0,-1]\n",
       "[0,-1,-1,0]\n",
       "\n",
       "N=2 U coefficients\n",
       "[1,0,0,0]\n",
       "[0,0,0,0]\n",
       "[0,0,0,0]\n",
       "[0,0,0,1]"
      ]
     },
     "metadata": {},
     "output_type": "display_data"
    }
   ],
   "source": [
    "do\n",
    "    putStrLn \"\\nN=2 basis\"\n",
    "    mapM_ print $ productBasisN 2\n",
    "    putStrLn \"\\nN=2 t coefficients\"\n",
    "    mapM_ print $ tMatrixN 2 (productBasisN 2)\n",
    "    putStrLn \"\\nN=2 U coefficients\"\n",
    "    mapM_ print $ uMatrixN 2 (productBasisN 2)"
   ]
  },
  {
   "cell_type": "markdown",
   "metadata": {},
   "source": [
    "This produced and matrices $\\mathbf{T}$ and $\\mathbf{U}$ of prefactors satisfying\n",
    "\n",
    "$$ \\hat H = t\\, \\mathbf{T} + U \\mathbf{U} $$\n",
    "\n",
    "Notice that the t matrix **includes the -1 factor from the Hamiltonian**."
   ]
  },
  {
   "cell_type": "markdown",
   "metadata": {},
   "source": [
    "Now let's peek at the $N=3$ matrices.\n",
    "\n",
    "*(Note added at the eleventh hour: While this notebook never shows the Hamiltonian explicitly, the full expansion was verified to contain 12 terms for $t$ and three (3) terms for $U$.  Each of the six localized states gets two $t$ terms where it is the creation operator.  These terms pair it with the annihilation operators for the states of equal spin at each neighboring site)*"
   ]
  },
  {
   "cell_type": "code",
   "execution_count": 9,
   "metadata": {
    "collapsed": false
   },
   "outputs": [
    {
     "data": {
      "text/plain": [
       "\n",
       "N=3 t coefficients"
      ]
     },
     "metadata": {},
     "output_type": "display_data"
    },
    {
     "data": {
      "text/plain": [
       "[0,0,0,1,0,-1,0,-1,1]\n",
       "[0,0,0,0,-1,1,-1,1,0]\n",
       "[0,0,0,-1,1,0,1,0,-1]\n",
       "[1,0,-1,0,-1,1,0,0,0]\n",
       "[0,-1,1,-1,0,0,0,1,0]\n",
       "[-1,1,0,1,0,0,-1,0,0]\n",
       "[0,-1,1,0,0,-1,0,0,1]\n",
       "[-1,1,0,0,1,0,0,0,-1]\n",
       "[1,0,-1,0,0,0,1,-1,0]"
      ]
     },
     "metadata": {},
     "output_type": "display_data"
    },
    {
     "data": {
      "text/plain": [
       "\n",
       "N=3 u coefficients"
      ]
     },
     "metadata": {},
     "output_type": "display_data"
    },
    {
     "data": {
      "text/plain": [
       "[0,0,0,0,0,0,0,0,0]\n",
       "[0,0,0,0,0,0,0,0,0]\n",
       "[0,0,0,0,0,0,0,0,0]\n",
       "[0,0,0,1,0,0,0,0,0]\n",
       "[0,0,0,0,1,0,0,0,0]\n",
       "[0,0,0,0,0,1,0,0,0]\n",
       "[0,0,0,0,0,0,1,0,0]\n",
       "[0,0,0,0,0,0,0,1,0]\n",
       "[0,0,0,0,0,0,0,0,1]"
      ]
     },
     "metadata": {},
     "output_type": "display_data"
    }
   ],
   "source": [
    "putStrLn \"\\nN=3 t coefficients\"\n",
    "mapM_ print $ tMatrixN 3 hw4Basis\n",
    "\n",
    "putStrLn \"\\nN=3 u coefficients\"\n",
    "mapM_ print $ uMatrixN 3 hw4Basis"
   ]
  },
  {
   "cell_type": "markdown",
   "metadata": {},
   "source": [
    "There are a bunch of $+t$ terms hiding in the $t$ matrix!  Specifically, there are 18 of them:"
   ]
  },
  {
   "cell_type": "code",
   "execution_count": 10,
   "metadata": {
    "collapsed": false
   },
   "outputs": [
    {
     "data": {
      "text/plain": [
       "fromList [(-1,18),(0,45),(1,18)]"
      ]
     },
     "metadata": {},
     "output_type": "display_data"
    }
   ],
   "source": [
    "counts :: (Ord k) => [k] -> Map k Int\n",
    "counts = Map.fromListWith (+) . map (flip (,) 1)\n",
    "\n",
    "counts $ concat $ tMatrixN 3 hw4Basis"
   ]
  },
  {
   "cell_type": "markdown",
   "metadata": {},
   "source": [
    "Could we improve our basis so that all jumping interactions are $-t$, reflecting the sign in the Hamiltonian."
   ]
  },
  {
   "cell_type": "markdown",
   "metadata": {},
   "source": [
    "# A better basis?"
   ]
  },
  {
   "cell_type": "markdown",
   "metadata": {},
   "source": [
    "Since relative phases between orthogonal states is irrelevant, **we could have freely chosen the sign of any of our basis elements.**  Negating a basis element can also be understood as taking an odd permutation of its operators (due to the anti-commutation relation $\\{a_i^\\dagger, a_j^\\dagger\\}=0$)."
   ]
  },
  {
   "cell_type": "markdown",
   "metadata": {},
   "source": [
    "Assign to each basis element a Boolean variable $x_i$ which is 1 if the basis element is negated, and 0 otherwise.  Let $=$ and $\\ne$ represent the logical IFF and XOR operators, which evaluate to 1 if and only if the sum of the two operands is even and odd, respectively.  Then:\n",
    "\n",
    "* If $\\left<i\\right|H\\left|j\\right>=+t$, we require $(x_i\\ne x_j)$.\n",
    "* If $\\left<i\\right|H\\left|j\\right>=-t$, we require $(x_i = x_j)$.\n",
    "\n",
    "This formulates the problem as a **Boolean satisfiability problem.** For this, there is a haskell package `incremental-sat-solver`, maintained by Sebastian Fischer:"
   ]
  },
  {
   "cell_type": "code",
   "execution_count": 11,
   "metadata": {
    "collapsed": false
   },
   "outputs": [],
   "source": [
    "import Data.Boolean.SatSolver(SatSolver, Boolean(..))\n",
    "import Data.Boolean.SatSolver(assertTrue, lookupVar, solve, newSatSolver)\n",
    "\n",
    "-- Example of how ridiculously generic Haskell can sometimes be:\n",
    "--\n",
    "-- Mirroring incremental-sat-solver's own API, the return value of this can be\n",
    "--  any arbitrary MonadPlus type (which are types that can represent \"failure\").\n",
    "-- Depending on how this function is used, on failure it will do anything from\n",
    "--  returning an empty list, to returning Nothing, to throwing an exception,\n",
    "--  all within the confines of a strong type system that permits no ambiguity.\n",
    "findNiceBasis :: (Num a, Eq a, MonadPlus m)\n",
    "              => [[a]] -- ^ input matrix\n",
    "              -> m [a] -- ^ output sign factors\n",
    "findNiceBasis = findNiceBasisWithTarget (-1)\n",
    "\n",
    "findNiceBasisWithTarget :: (Num a, Eq a, MonadPlus m)\n",
    "              => a     -- ^ sign\n",
    "              -> [[a]] -- ^ input matrix\n",
    "              -> m [a] -- ^ output sign factors\n",
    "findNiceBasisWithTarget target mat = result where\n",
    "\n",
    "    -- Data.Boolean.SatSolver.Boolean constructors\n",
    "    iff a b = (a :&&: b) :||: (Not a :&&: Not b)\n",
    "    xor a b = Not (a `iff` b)\n",
    "    -- convert one triangular half to (x,i,j) format\n",
    "    xij = [ (x,i,j) | (i,row) <- zip [0..] mat, (j,x) <- zip [i..] (drop i row) ]\n",
    "    -- boolean conditions that must be satisfied\n",
    "    conditions = map foo xij where\n",
    "        foo (0,i,j) = Yes -- These don't matter.\n",
    "        foo (x,i,j)\n",
    "           | x == -target = Var i `xor` Var j -- aim to negate these elements,\n",
    "           | x ==  target = Var i `iff` Var j -- but DON'T negate these.\n",
    "        \n",
    "\n",
    "    result = do\n",
    "        let solver = newSatSolver\n",
    "        -- require each individual condition in turn\n",
    "        solver <- foldM (flip assertTrue) solver conditions\n",
    "        -- let the solver guess a solution\n",
    "        solver <- solve solver\n",
    "        -- read the solution.  lookupVar returns Nothing for boolean variables\n",
    "        --   which are not sufficiently constrained; in this case, we prefer\n",
    "        --   to not negate the kets\n",
    "        let vars = [0..length mat - 1]\n",
    "        let solution = map (maybe 1 boolSign . flip lookupVar solver) vars where\n",
    "            boolSign True = -1\n",
    "            boolSign False = 1\n",
    "        return solution"
   ]
  },
  {
   "cell_type": "markdown",
   "metadata": {},
   "source": [
    "Let's **test it out first** on the $N=2$ matrix."
   ]
  },
  {
   "cell_type": "code",
   "execution_count": 12,
   "metadata": {
    "collapsed": false
   },
   "outputs": [
    {
     "data": {
      "text/plain": [
       "[-1,-1,-1,-1]"
      ]
     },
     "metadata": {},
     "output_type": "display_data"
    }
   ],
   "source": [
    "-- What does it tell us about the N=2 problem?\n",
    "findNiceBasis (tMatrixN 2 (productBasisN 2))"
   ]
  },
  {
   "cell_type": "markdown",
   "metadata": {},
   "source": [
    "The return value is a list of sign factors to apply to each ket in order to produce a matrix of all -t elements.  Since the $\\mathbf T$ matrix for $N=2$ is already all negative, no negations are necessary. (though interestingly, the code produces the equivalent solution to _negate everying!_)"
   ]
  },
  {
   "cell_type": "markdown",
   "metadata": {},
   "source": [
    "That test had no positive elements in the matrix, so it doesn't instill much confidence. Thus, for our next test, **let's flip the third basis vector and see if it flips it back:**"
   ]
  },
  {
   "cell_type": "code",
   "execution_count": 13,
   "metadata": {
    "collapsed": false
   },
   "outputs": [
    {
     "data": {
      "text/plain": [
       "[-1,-1,1,-1]"
      ]
     },
     "metadata": {},
     "output_type": "display_data"
    }
   ],
   "source": [
    "do\n",
    "    let basis = productBasisN 2\n",
    "    let basis' = let [b0,b1] = basis ! 2\n",
    "                 in basis // [(2, [b1,b0])]\n",
    "    findNiceBasis (tMatrixN 2 basis')"
   ]
  },
  {
   "cell_type": "markdown",
   "metadata": {},
   "source": [
    "Here we see it **did flip the third basis ket back**."
   ]
  },
  {
   "cell_type": "markdown",
   "metadata": {},
   "source": [
    "As a final test, let's be evil and give it something *impossible* by **putting a positive element on the main diagonal.**"
   ]
  },
  {
   "cell_type": "code",
   "execution_count": 14,
   "metadata": {
    "collapsed": false
   },
   "outputs": [
    {
     "data": {
      "text/html": [
       "<style>/* Styles used for the Hoogle display in the pager */\n",
       ".hoogle-doc {\n",
       "display: block;\n",
       "padding-bottom: 1.3em;\n",
       "padding-left: 0.4em;\n",
       "}\n",
       ".hoogle-code {\n",
       "display: block;\n",
       "font-family: monospace;\n",
       "white-space: pre;\n",
       "}\n",
       ".hoogle-text {\n",
       "display: block;\n",
       "}\n",
       ".hoogle-name {\n",
       "color: green;\n",
       "font-weight: bold;\n",
       "}\n",
       ".hoogle-head {\n",
       "font-weight: bold;\n",
       "}\n",
       ".hoogle-sub {\n",
       "display: block;\n",
       "margin-left: 0.4em;\n",
       "}\n",
       ".hoogle-package {\n",
       "font-weight: bold;\n",
       "font-style: italic;\n",
       "}\n",
       ".hoogle-module {\n",
       "font-weight: bold;\n",
       "}\n",
       ".hoogle-class {\n",
       "font-weight: bold;\n",
       "}\n",
       ".get-type {\n",
       "color: green;\n",
       "font-weight: bold;\n",
       "font-family: monospace;\n",
       "display: block;\n",
       "white-space: pre-wrap;\n",
       "}\n",
       ".show-type {\n",
       "color: green;\n",
       "font-weight: bold;\n",
       "font-family: monospace;\n",
       "margin-left: 1em;\n",
       "}\n",
       ".mono {\n",
       "font-family: monospace;\n",
       "display: block;\n",
       "}\n",
       ".err-msg {\n",
       "color: red;\n",
       "font-style: italic;\n",
       "font-family: monospace;\n",
       "white-space: pre;\n",
       "display: block;\n",
       "}\n",
       "#unshowable {\n",
       "color: red;\n",
       "font-weight: bold;\n",
       "}\n",
       ".err-msg.in.collapse {\n",
       "padding-top: 0.7em;\n",
       "}\n",
       ".highlight-code {\n",
       "white-space: pre;\n",
       "font-family: monospace;\n",
       "}\n",
       ".suggestion-warning { \n",
       "font-weight: bold;\n",
       "color: rgb(200, 130, 0);\n",
       "}\n",
       ".suggestion-error { \n",
       "font-weight: bold;\n",
       "color: red;\n",
       "}\n",
       ".suggestion-name {\n",
       "font-weight: bold;\n",
       "}\n",
       "</style><span class='err-msg'>user error (mzero)</span>"
      ],
      "text/plain": [
       "user error (mzero)"
      ]
     },
     "metadata": {},
     "output_type": "display_data"
    }
   ],
   "source": [
    "do\n",
    "    let ((_:m0'):m') = tMatrixN 2 (productBasisN 2)\n",
    "    let matrix = (1:m0'):m'\n",
    "    findNiceBasis matrix"
   ]
  },
  {
   "cell_type": "markdown",
   "metadata": {},
   "source": [
    "This (unfortunately plain) error message means that the SAT solver determined that our boolean expression was unsatisfiable. Excellent! Now for the real deal:"
   ]
  },
  {
   "cell_type": "markdown",
   "metadata": {},
   "source": [
    "**How can we choose signs to make the $N=3$ matrix negative?**"
   ]
  },
  {
   "cell_type": "code",
   "execution_count": 15,
   "metadata": {
    "collapsed": false
   },
   "outputs": [
    {
     "data": {
      "text/html": [
       "<style>/* Styles used for the Hoogle display in the pager */\n",
       ".hoogle-doc {\n",
       "display: block;\n",
       "padding-bottom: 1.3em;\n",
       "padding-left: 0.4em;\n",
       "}\n",
       ".hoogle-code {\n",
       "display: block;\n",
       "font-family: monospace;\n",
       "white-space: pre;\n",
       "}\n",
       ".hoogle-text {\n",
       "display: block;\n",
       "}\n",
       ".hoogle-name {\n",
       "color: green;\n",
       "font-weight: bold;\n",
       "}\n",
       ".hoogle-head {\n",
       "font-weight: bold;\n",
       "}\n",
       ".hoogle-sub {\n",
       "display: block;\n",
       "margin-left: 0.4em;\n",
       "}\n",
       ".hoogle-package {\n",
       "font-weight: bold;\n",
       "font-style: italic;\n",
       "}\n",
       ".hoogle-module {\n",
       "font-weight: bold;\n",
       "}\n",
       ".hoogle-class {\n",
       "font-weight: bold;\n",
       "}\n",
       ".get-type {\n",
       "color: green;\n",
       "font-weight: bold;\n",
       "font-family: monospace;\n",
       "display: block;\n",
       "white-space: pre-wrap;\n",
       "}\n",
       ".show-type {\n",
       "color: green;\n",
       "font-weight: bold;\n",
       "font-family: monospace;\n",
       "margin-left: 1em;\n",
       "}\n",
       ".mono {\n",
       "font-family: monospace;\n",
       "display: block;\n",
       "}\n",
       ".err-msg {\n",
       "color: red;\n",
       "font-style: italic;\n",
       "font-family: monospace;\n",
       "white-space: pre;\n",
       "display: block;\n",
       "}\n",
       "#unshowable {\n",
       "color: red;\n",
       "font-weight: bold;\n",
       "}\n",
       ".err-msg.in.collapse {\n",
       "padding-top: 0.7em;\n",
       "}\n",
       ".highlight-code {\n",
       "white-space: pre;\n",
       "font-family: monospace;\n",
       "}\n",
       ".suggestion-warning { \n",
       "font-weight: bold;\n",
       "color: rgb(200, 130, 0);\n",
       "}\n",
       ".suggestion-error { \n",
       "font-weight: bold;\n",
       "color: red;\n",
       "}\n",
       ".suggestion-name {\n",
       "font-weight: bold;\n",
       "}\n",
       "</style><span class='err-msg'>user error (mzero)</span>"
      ],
      "text/plain": [
       "user error (mzero)"
      ]
     },
     "metadata": {},
     "output_type": "display_data"
    }
   ],
   "source": [
    "findNiceBasis (tMatrixN 3 hw4Basis)"
   ]
  },
  {
   "cell_type": "markdown",
   "metadata": {},
   "source": [
    "Huh, imagine that! **It would appear that there is no assignment of basis kets for the $N=3$ problem such that all jumping interaction terms are negative!** Well, at least we tried!"
   ]
  },
  {
   "cell_type": "markdown",
   "metadata": {},
   "source": [
    "The same also happens for $N=4$:"
   ]
  },
  {
   "cell_type": "code",
   "execution_count": 16,
   "metadata": {
    "collapsed": false
   },
   "outputs": [
    {
     "data": {
      "text/html": [
       "<style>/* Styles used for the Hoogle display in the pager */\n",
       ".hoogle-doc {\n",
       "display: block;\n",
       "padding-bottom: 1.3em;\n",
       "padding-left: 0.4em;\n",
       "}\n",
       ".hoogle-code {\n",
       "display: block;\n",
       "font-family: monospace;\n",
       "white-space: pre;\n",
       "}\n",
       ".hoogle-text {\n",
       "display: block;\n",
       "}\n",
       ".hoogle-name {\n",
       "color: green;\n",
       "font-weight: bold;\n",
       "}\n",
       ".hoogle-head {\n",
       "font-weight: bold;\n",
       "}\n",
       ".hoogle-sub {\n",
       "display: block;\n",
       "margin-left: 0.4em;\n",
       "}\n",
       ".hoogle-package {\n",
       "font-weight: bold;\n",
       "font-style: italic;\n",
       "}\n",
       ".hoogle-module {\n",
       "font-weight: bold;\n",
       "}\n",
       ".hoogle-class {\n",
       "font-weight: bold;\n",
       "}\n",
       ".get-type {\n",
       "color: green;\n",
       "font-weight: bold;\n",
       "font-family: monospace;\n",
       "display: block;\n",
       "white-space: pre-wrap;\n",
       "}\n",
       ".show-type {\n",
       "color: green;\n",
       "font-weight: bold;\n",
       "font-family: monospace;\n",
       "margin-left: 1em;\n",
       "}\n",
       ".mono {\n",
       "font-family: monospace;\n",
       "display: block;\n",
       "}\n",
       ".err-msg {\n",
       "color: red;\n",
       "font-style: italic;\n",
       "font-family: monospace;\n",
       "white-space: pre;\n",
       "display: block;\n",
       "}\n",
       "#unshowable {\n",
       "color: red;\n",
       "font-weight: bold;\n",
       "}\n",
       ".err-msg.in.collapse {\n",
       "padding-top: 0.7em;\n",
       "}\n",
       ".highlight-code {\n",
       "white-space: pre;\n",
       "font-family: monospace;\n",
       "}\n",
       ".suggestion-warning { \n",
       "font-weight: bold;\n",
       "color: rgb(200, 130, 0);\n",
       "}\n",
       ".suggestion-error { \n",
       "font-weight: bold;\n",
       "color: red;\n",
       "}\n",
       ".suggestion-name {\n",
       "font-weight: bold;\n",
       "}\n",
       "</style><span class='err-msg'>user error (mzero)</span>"
      ],
      "text/plain": [
       "user error (mzero)"
      ]
     },
     "metadata": {},
     "output_type": "display_data"
    }
   ],
   "source": [
    "findNiceBasis (tMatrixN 4 (productBasisN 4))"
   ]
  },
  {
   "cell_type": "markdown",
   "metadata": {},
   "source": [
    "## My 6 terms"
   ]
  },
  {
   "cell_type": "code",
   "execution_count": 17,
   "metadata": {
    "collapsed": false
   },
   "outputs": [
    {
     "data": {
      "text/plain": [
       "H_44 = 0t + 1u\n",
       "H_45 = -1t + 0u\n",
       "H_46 = 1t + 0u\n",
       "H_47 = 0t + 0u\n",
       "H_48 = 0t + 0u\n",
       "H_49 = 0t + 0u"
      ]
     },
     "metadata": {},
     "output_type": "display_data"
    }
   ],
   "source": [
    "myElems = [(4,c) | c <- [4..9]]\n",
    "\n",
    "do\n",
    "    let tMatrix = tMatrixN 3 hw4Basis\n",
    "    let uMatrix = uMatrixN 3 hw4Basis\n",
    "    forM_ myElems $ \\(r,c) -> do\n",
    "        let tValue = tMatrix !! (r-1) !! (c-1)\n",
    "        let uValue = uMatrix !! (r-1) !! (c-1)\n",
    "        putStrLn $ \"H_\" <> show r <> show c\n",
    "                 <> \" = \" <> show tValue <> \"t\"\n",
    "                 <> \" + \" <> show uValue <> \"u\""
   ]
  },
  {
   "cell_type": "code",
   "execution_count": null,
   "metadata": {
    "collapsed": true
   },
   "outputs": [],
   "source": []
  }
 ],
 "metadata": {
  "kernelspec": {
   "display_name": "Haskell",
   "language": "haskell",
   "name": "haskell"
  },
  "language_info": {
   "codemirror_mode": "ihaskell",
   "file_extension": ".hs",
   "name": "haskell",
   "version": "7.10.3"
  }
 },
 "nbformat": 4,
 "nbformat_minor": 1
}
